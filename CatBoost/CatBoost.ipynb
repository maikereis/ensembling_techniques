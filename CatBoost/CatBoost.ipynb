{
 "cells": [
  {
   "cell_type": "code",
   "execution_count": 220,
   "metadata": {},
   "outputs": [],
   "source": [
    "import numpy as np\n",
    "import pandas as pd\n",
    "\n",
    "from sklearn.model_selection import train_test_split\n",
    "from sklearn.compose import make_column_transformer, make_column_selector\n",
    "from sklearn.preprocessing import OrdinalEncoder, OneHotEncoder\n",
    "from sklearn.impute import SimpleImputer"
   ]
  },
  {
   "cell_type": "markdown",
   "metadata": {},
   "source": [
    "### 1.Import data"
   ]
  },
  {
   "cell_type": "code",
   "execution_count": 221,
   "metadata": {},
   "outputs": [],
   "source": [
    "data = pd.read_csv('../data/loan/train.csv')\n",
    "\n",
    "data = data.drop('Loan_ID', axis=1)\n",
    "data['Dependents'] = data['Dependents'].replace('3+', '3')\n",
    "\n",
    "X, y = data.drop('Loan_Status', axis=1), data.pop('Loan_Status')\n",
    "\n",
    "X_train, X_test, y_train, y_test = train_test_split(X,y, stratify=y)"
   ]
  },
  {
   "cell_type": "code",
   "execution_count": 222,
   "metadata": {},
   "outputs": [],
   "source": [
    "ct_fill = make_column_transformer(\n",
    "    (SimpleImputer(strategy=\"most_frequent\"),make_column_selector(dtype_exclude=np.number)),\n",
    "    (SimpleImputer(strategy=\"mean\"), make_column_selector(dtype_include=np.number))\n",
    ")"
   ]
  },
  {
   "cell_type": "code",
   "execution_count": 223,
   "metadata": {},
   "outputs": [],
   "source": [
    "X_train = pd.DataFrame(ct_fill.fit_transform(X_train)).infer_objects()\n",
    "X_test = pd.DataFrame(ct_fill.transform(X_test)).infer_objects()\n",
    "\n",
    "y_train = y_train.map({'Y':1, 'N':0})\n",
    "y_test = y_test.map({'Y':1, 'N':0})"
   ]
  },
  {
   "cell_type": "code",
   "execution_count": 224,
   "metadata": {},
   "outputs": [],
   "source": [
    "cat_features = X_train.select_dtypes('object')\n",
    "cat_features_idx = [X_train.columns.get_loc(col) for col in cat_features]"
   ]
  },
  {
   "cell_type": "markdown",
   "metadata": {},
   "source": [
    "### 2. Install LightGBM"
   ]
  },
  {
   "cell_type": "code",
   "execution_count": 225,
   "metadata": {},
   "outputs": [],
   "source": [
    "#%pip install catboost\n",
    "from catboost import CatBoostClassifier"
   ]
  },
  {
   "cell_type": "markdown",
   "metadata": {},
   "source": [
    "### 3. Build a Model"
   ]
  },
  {
   "cell_type": "code",
   "execution_count": 226,
   "metadata": {},
   "outputs": [],
   "source": [
    "model = CatBoostClassifier(verbose=False)\n"
   ]
  },
  {
   "cell_type": "markdown",
   "metadata": {},
   "source": [
    "### 3. Evaluate model"
   ]
  },
  {
   "cell_type": "code",
   "execution_count": 227,
   "metadata": {},
   "outputs": [
    {
     "data": {
      "text/plain": [
       "(0.8326086956521739, 0.8116883116883117)"
      ]
     },
     "execution_count": 227,
     "metadata": {},
     "output_type": "execute_result"
    }
   ],
   "source": [
    "model.fit(X_train, y_train, cat_features=cat_features_idx, eval_set=(X_test, y_test))\n",
    "model.score(X_train, y_train), model.score(X_test, y_test)"
   ]
  }
 ],
 "metadata": {
  "interpreter": {
   "hash": "28a5f5bc7277c3ff611db003fc39c6e486462a4e0b6ad71d09a0177baf05ed21"
  },
  "kernelspec": {
   "display_name": "Python 3.9.0 64-bit ('ensembletech': virtualenv)",
   "language": "python",
   "name": "python3"
  },
  "language_info": {
   "codemirror_mode": {
    "name": "ipython",
    "version": 3
   },
   "file_extension": ".py",
   "mimetype": "text/x-python",
   "name": "python",
   "nbconvert_exporter": "python",
   "pygments_lexer": "ipython3",
   "version": "3.9.0"
  },
  "orig_nbformat": 4
 },
 "nbformat": 4,
 "nbformat_minor": 2
}
