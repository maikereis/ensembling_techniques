{
 "cells": [
  {
   "cell_type": "code",
   "execution_count": 164,
   "metadata": {},
   "outputs": [],
   "source": [
    "import numpy as np\n",
    "import pandas as pd\n",
    "\n",
    "from sklearn.model_selection import train_test_split\n",
    "from sklearn.compose import make_column_transformer\n",
    "from sklearn.preprocessing import OrdinalEncoder, OneHotEncoder\n",
    "from sklearn.impute import SimpleImputer"
   ]
  },
  {
   "cell_type": "markdown",
   "metadata": {},
   "source": [
    "### 1.Import data"
   ]
  },
  {
   "cell_type": "code",
   "execution_count": 165,
   "metadata": {},
   "outputs": [],
   "source": [
    "data = pd.read_csv('../data/loan/train.csv')\n",
    "\n",
    "data = data.drop('Loan_ID', axis=1)\n",
    "data['Dependents'] = data['Dependents'].replace('3+', '3')\n",
    "\n",
    "X, y = data.drop('Loan_Status', axis=1), data.pop('Loan_Status')\n",
    "\n",
    "X_train, X_test, y_train, y_test = train_test_split(X,y, stratify=y)"
   ]
  },
  {
   "cell_type": "code",
   "execution_count": 166,
   "metadata": {},
   "outputs": [
    {
     "data": {
      "text/plain": [
       "' from sklearn.base import BaseEstimator, TransformerMixin\\nfrom sklearn.utils.validation import check_is_fitted\\n\\nclass DropCols(BaseEstimator, TransformerMixin):\\n    def __init__(self):\\n        return \\n        #self.cols = cols\\n        \\n    def fit(self, X, y=None):\\n        return self\\n\\n    def transform(self, X, y=None):\\n        self.X = X.copy()\\n        return self.X.drop(self.X.columns, axis=1)\\n        #print(self.X.columns)\\n        return X\\n '"
      ]
     },
     "execution_count": 166,
     "metadata": {},
     "output_type": "execute_result"
    }
   ],
   "source": [
    "\"\"\" from sklearn.base import BaseEstimator, TransformerMixin\n",
    "from sklearn.utils.validation import check_is_fitted\n",
    "\n",
    "class DropCols(BaseEstimator, TransformerMixin):\n",
    "    def __init__(self):\n",
    "        return \n",
    "        #self.cols = cols\n",
    "        \n",
    "    def fit(self, X, y=None):\n",
    "        return self\n",
    "\n",
    "    def transform(self, X, y=None):\n",
    "        self.X = X.copy()\n",
    "        return self.X.drop(self.X.columns, axis=1)\n",
    "        #print(self.X.columns)\n",
    "        return X\n",
    " \"\"\""
   ]
  },
  {
   "cell_type": "code",
   "execution_count": 167,
   "metadata": {},
   "outputs": [],
   "source": [
    "ct_fill = make_column_transformer(\n",
    "    (SimpleImputer(strategy=\"most_frequent\"),make_column_selector(dtype_include=object)),\n",
    "    (OrdinalEncoder(categories=[[\"Not Graduate\", \"Graduate\"]]), [\"Education\"]),\n",
    "    (SimpleImputer(strategy=\"mean\"), make_column_selector(dtype_include=\"number\")),\n",
    "    (OrdinalEncoder(categories=[[\"Rural\", \"Semiurban\", \"Urban\"]]), [\"Property_Area\"]),\n",
    "    (OneHotEncoder(handle_unknown='ignore'), [\"Gender\", \"Married\"]),\n",
    "    remainder='passthrough'\n",
    ")\n",
    "\n",
    "mypipe = make_pipeline(ct_fill)"
   ]
  },
  {
   "cell_type": "code",
   "execution_count": 168,
   "metadata": {},
   "outputs": [],
   "source": [
    "X_train = pd.DataFrame(mypipe.fit_transform(X_train)).iloc[:, 6:].astype(float)\n",
    "X_test = pd.DataFrame(mypipe.transform(X_test)).iloc[:, 6:].astype(float)\n",
    "\n",
    "y_train = y_train.map({'Y':1, 'N':0})\n",
    "y_test = y_test.map({'Y':1, 'N':0})"
   ]
  },
  {
   "cell_type": "markdown",
   "metadata": {},
   "source": [
    "### 2. Install LightGBM"
   ]
  },
  {
   "cell_type": "code",
   "execution_count": 169,
   "metadata": {},
   "outputs": [],
   "source": [
    "#%pip install lightgbm\n",
    "from lightgbm import LGBMClassifier"
   ]
  },
  {
   "cell_type": "markdown",
   "metadata": {},
   "source": [
    "### 3. Build a Model"
   ]
  },
  {
   "cell_type": "code",
   "execution_count": 170,
   "metadata": {},
   "outputs": [],
   "source": [
    "model = LGBMClassifier()\n"
   ]
  },
  {
   "cell_type": "markdown",
   "metadata": {},
   "source": [
    "### 3. Evaluate model"
   ]
  },
  {
   "cell_type": "code",
   "execution_count": 171,
   "metadata": {},
   "outputs": [
    {
     "data": {
      "text/plain": [
       "(0.9891304347826086, 0.7792207792207793)"
      ]
     },
     "execution_count": 171,
     "metadata": {},
     "output_type": "execute_result"
    }
   ],
   "source": [
    "model.fit(X_train, y_train)\n",
    "model.score(X_train, y_train), model.score(X_test, y_test)"
   ]
  },
  {
   "cell_type": "markdown",
   "metadata": {},
   "source": [
    "### 4. Hyperparameter Tunning"
   ]
  },
  {
   "cell_type": "code",
   "execution_count": 191,
   "metadata": {},
   "outputs": [
    {
     "data": {
      "text/plain": [
       "(0.8130434782608695, 0.7987012987012987)"
      ]
     },
     "execution_count": 191,
     "metadata": {},
     "output_type": "execute_result"
    }
   ],
   "source": [
    "model = LGBMClassifier(learning_rate=0.001, n_estimators=500, objective='binary')\n",
    "model.fit(X_train, y_train)\n",
    "model.score(X_train, y_train), model.score(X_test, y_test)"
   ]
  }
 ],
 "metadata": {
  "interpreter": {
   "hash": "28a5f5bc7277c3ff611db003fc39c6e486462a4e0b6ad71d09a0177baf05ed21"
  },
  "kernelspec": {
   "display_name": "Python 3.9.0 64-bit ('ensembletech': virtualenv)",
   "language": "python",
   "name": "python3"
  },
  "language_info": {
   "codemirror_mode": {
    "name": "ipython",
    "version": 3
   },
   "file_extension": ".py",
   "mimetype": "text/x-python",
   "name": "python",
   "nbconvert_exporter": "python",
   "pygments_lexer": "ipython3",
   "version": "3.9.0"
  },
  "orig_nbformat": 4
 },
 "nbformat": 4,
 "nbformat_minor": 2
}
