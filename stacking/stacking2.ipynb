{
 "cells": [
  {
   "cell_type": "code",
   "execution_count": 105,
   "metadata": {},
   "outputs": [],
   "source": [
    "import numpy as np\n",
    "import pandas as pd\n",
    "import statistics as stts\n",
    "\n",
    "from sklearn.tree import DecisionTreeClassifier\n",
    "from sklearn.neighbors import KNeighborsClassifier\n",
    "from sklearn.linear_model import LogisticRegression\n",
    "\n",
    "from sklearn.model_selection import train_test_split\n",
    "from sklearn.metrics import accuracy_score\n",
    "from sklearn.ensemble import VotingClassifier"
   ]
  },
  {
   "cell_type": "markdown",
   "metadata": {},
   "source": [
    "<img src=\"concept_stacking.png\" alt=\"Drawing\" style=\"width: 800px;\"/>"
   ]
  },
  {
   "cell_type": "markdown",
   "metadata": {},
   "source": [
    "### 1.Import data"
   ]
  },
  {
   "cell_type": "code",
   "execution_count": 106,
   "metadata": {},
   "outputs": [],
   "source": [
    "data = pd.read_csv('../data/data_cleaned.csv')\n",
    "\n",
    "X, y = data.drop('Survived', axis=1), data.pop('Survived')\n",
    "\n",
    "X_train, X_test, y_train, y_test = train_test_split(X,y, test_size=0.2)"
   ]
  },
  {
   "cell_type": "markdown",
   "metadata": {},
   "source": [
    "### 2. Creade models"
   ]
  },
  {
   "cell_type": "code",
   "execution_count": 107,
   "metadata": {},
   "outputs": [],
   "source": [
    "DT = DecisionTreeClassifier()\n",
    "KNN = KNeighborsClassifier()\n",
    "LR = LogisticRegression(solver='lbfgs', max_iter=1000)"
   ]
  },
  {
   "cell_type": "markdown",
   "metadata": {},
   "source": [
    "### 3. Evaluate each model"
   ]
  },
  {
   "cell_type": "code",
   "execution_count": 108,
   "metadata": {},
   "outputs": [
    {
     "data": {
      "text/plain": [
       "(0.8044692737430168, 0.6983240223463687, 0.8547486033519553)"
      ]
     },
     "execution_count": 108,
     "metadata": {},
     "output_type": "execute_result"
    }
   ],
   "source": [
    "DT.fit(X_train, y_train)\n",
    "KNN.fit(X_train, y_train)\n",
    "LR.fit(X_train, y_train)\n",
    "\n",
    "\n",
    "DT.score(X_test, y_test), KNN.score(X_test, y_test) , LR.score(X_test, y_test)"
   ]
  },
  {
   "cell_type": "markdown",
   "metadata": {},
   "source": [
    "#### 3.1 Second approach: using out-of-folds predictions"
   ]
  },
  {
   "cell_type": "code",
   "execution_count": 109,
   "metadata": {},
   "outputs": [],
   "source": [
    "from sklearn.model_selection import cross_val_predict\n",
    "\n",
    "\n",
    "def model_predictions_kfold(model, kfolds, X_train, y_train, X_test):\n",
    "\t\n",
    "\ty_train_pred = cross_val_predict(model, X_train, y_train, cv=kfolds)\n",
    "\n",
    "\ty_test_pred = model.predict(X_test)\n",
    "\t\t\n",
    "\treturn y_train_pred, y_test_pred"
   ]
  },
  {
   "cell_type": "markdown",
   "metadata": {},
   "source": [
    "#### a) Train models"
   ]
  },
  {
   "cell_type": "code",
   "execution_count": 110,
   "metadata": {},
   "outputs": [],
   "source": [
    "M1_train, M1_test = model_predictions_kfold(DT, 10, X_train, y_train, X_test)\n",
    "M2_train, M2_test = model_predictions_kfold(KNN, 10, X_train, y_train, X_test)\n",
    "M3_train, M3_test = model_predictions_kfold(LR, 10, X_train, y_train, X_test)"
   ]
  },
  {
   "cell_type": "markdown",
   "metadata": {},
   "source": [
    "#### b) Create the base models predictions dataset"
   ]
  },
  {
   "cell_type": "code",
   "execution_count": 111,
   "metadata": {},
   "outputs": [],
   "source": [
    "X_train_meta = pd.DataFrame({'m1':M1_train, 'm2':M2_train, 'm3':M3_train})\n",
    "X_test_meta = pd.DataFrame({'m1':M1_test, 'm2':M2_test, 'm3':M3_test})\n"
   ]
  },
  {
   "cell_type": "markdown",
   "metadata": {},
   "source": [
    "#### c) Make predictions"
   ]
  },
  {
   "cell_type": "code",
   "execution_count": 112,
   "metadata": {},
   "outputs": [
    {
     "data": {
      "text/plain": [
       "0.8547486033519553"
      ]
     },
     "execution_count": 112,
     "metadata": {},
     "output_type": "execute_result"
    }
   ],
   "source": [
    "# Stacker Model\n",
    "meta_model = LogisticRegression()\n",
    "meta_model.fit(X_train_meta, y_train)\n",
    "meta_model.score(X_test_meta,y_test)"
   ]
  }
 ],
 "metadata": {
  "interpreter": {
   "hash": "28a5f5bc7277c3ff611db003fc39c6e486462a4e0b6ad71d09a0177baf05ed21"
  },
  "kernelspec": {
   "display_name": "Python 3.9.0 64-bit ('ensembletech': virtualenv)",
   "language": "python",
   "name": "python3"
  },
  "language_info": {
   "codemirror_mode": {
    "name": "ipython",
    "version": 3
   },
   "file_extension": ".py",
   "mimetype": "text/x-python",
   "name": "python",
   "nbconvert_exporter": "python",
   "pygments_lexer": "ipython3",
   "version": "3.9.0"
  },
  "orig_nbformat": 4
 },
 "nbformat": 4,
 "nbformat_minor": 2
}
