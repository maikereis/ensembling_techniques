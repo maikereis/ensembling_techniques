{
 "cells": [
  {
   "cell_type": "code",
   "execution_count": 74,
   "metadata": {},
   "outputs": [],
   "source": [
    "import numpy as np\n",
    "import pandas as pd\n",
    "import statistics as stts\n",
    "\n",
    "from sklearn.tree import DecisionTreeClassifier\n",
    "from sklearn.neighbors import KNeighborsClassifier\n",
    "from sklearn.linear_model import LogisticRegression\n",
    "\n",
    "from sklearn.model_selection import train_test_split"
   ]
  },
  {
   "cell_type": "markdown",
   "metadata": {},
   "source": [
    "<img src=\"concept_stacking.png\" alt=\"Drawing\" style=\"width: 800px;\"/>"
   ]
  },
  {
   "cell_type": "markdown",
   "metadata": {},
   "source": [
    "### 1.Import data"
   ]
  },
  {
   "cell_type": "code",
   "execution_count": 75,
   "metadata": {},
   "outputs": [],
   "source": [
    "data = pd.read_csv('../data/data_cleaned.csv')\n",
    "\n",
    "X, y = data.drop('Survived', axis=1), data.pop('Survived')\n",
    "\n",
    "X_train, X_test, y_train, y_test = train_test_split(X,y, test_size=0.2)"
   ]
  },
  {
   "cell_type": "markdown",
   "metadata": {},
   "source": [
    "### 2. Creade models"
   ]
  },
  {
   "cell_type": "code",
   "execution_count": 76,
   "metadata": {},
   "outputs": [],
   "source": [
    "DT = DecisionTreeClassifier()\n",
    "KNN = KNeighborsClassifier()\n",
    "LR = LogisticRegression(solver='lbfgs', max_iter=1000)"
   ]
  },
  {
   "cell_type": "markdown",
   "metadata": {},
   "source": [
    "### 3. Evaluate each model"
   ]
  },
  {
   "cell_type": "code",
   "execution_count": 77,
   "metadata": {},
   "outputs": [
    {
     "data": {
      "text/plain": [
       "(0.7374301675977654, 0.6927374301675978, 0.7821229050279329)"
      ]
     },
     "execution_count": 77,
     "metadata": {},
     "output_type": "execute_result"
    }
   ],
   "source": [
    "DT.fit(X_train, y_train)\n",
    "KNN.fit(X_train, y_train)\n",
    "LR.fit(X_train, y_train)\n",
    "\n",
    "\n",
    "DT.score(X_test, y_test), KNN.score(X_test, y_test) , LR.score(X_test, y_test)"
   ]
  },
  {
   "cell_type": "markdown",
   "metadata": {},
   "source": [
    "### 3. Train models and create new datasets using their predictions\n"
   ]
  },
  {
   "cell_type": "markdown",
   "metadata": {},
   "source": [
    "#### 3.1 First approach: feeding the entire dataset"
   ]
  },
  {
   "cell_type": "code",
   "execution_count": 78,
   "metadata": {},
   "outputs": [],
   "source": [
    "def model_predictions(model, X_train, y_train, X_test):\n",
    "    \n",
    "    #train the model\n",
    "    model.fit(X_train,y_train)\n",
    "    \n",
    "    #storing predictions for train and test\n",
    "    pred_train=model.predict(X_train)\n",
    "    pred_test=model.predict(X_test)\n",
    "    return pred_train, pred_test"
   ]
  },
  {
   "cell_type": "markdown",
   "metadata": {},
   "source": [
    "#### a) Train models"
   ]
  },
  {
   "cell_type": "code",
   "execution_count": 79,
   "metadata": {},
   "outputs": [],
   "source": [
    "DT = DecisionTreeClassifier()\n",
    "KNN = KNeighborsClassifier()\n",
    "LR = LogisticRegression(solver='lbfgs', max_iter=1000)\n",
    "\n",
    "M1_train, M1_test = model_predictions(DT, X_train, y_train, X_test)\n",
    "M2_train, M2_test = model_predictions(KNN, X_train, y_train, X_test)\n",
    "M3_train, M3_test = model_predictions(LR, X_train, y_train, X_test)"
   ]
  },
  {
   "cell_type": "markdown",
   "metadata": {},
   "source": [
    "#### b) Create the base models predictions dataset"
   ]
  },
  {
   "cell_type": "code",
   "execution_count": 80,
   "metadata": {},
   "outputs": [],
   "source": [
    "X_train_meta = pd.DataFrame({'m1':M1_train, 'm2':M2_train, 'm3':M3_train})\n",
    "X_test_meta = pd.DataFrame({'m1':M1_test, 'm2':M2_test, 'm3':M3_test})\n"
   ]
  },
  {
   "cell_type": "markdown",
   "metadata": {},
   "source": [
    "#### c) Make predictions"
   ]
  },
  {
   "cell_type": "code",
   "execution_count": 81,
   "metadata": {},
   "outputs": [
    {
     "data": {
      "text/plain": [
       "0.7206703910614525"
      ]
     },
     "execution_count": 81,
     "metadata": {},
     "output_type": "execute_result"
    }
   ],
   "source": [
    "# Stacker Model\n",
    "meta_model = LogisticRegression()\n",
    "meta_model.fit(X_train_meta, y_train)\n",
    "meta_model.score(X_test_meta,y_test)\n"
   ]
  }
 ],
 "metadata": {
  "interpreter": {
   "hash": "28a5f5bc7277c3ff611db003fc39c6e486462a4e0b6ad71d09a0177baf05ed21"
  },
  "kernelspec": {
   "display_name": "Python 3.9.0 64-bit ('ensembletech': virtualenv)",
   "language": "python",
   "name": "python3"
  },
  "language_info": {
   "codemirror_mode": {
    "name": "ipython",
    "version": 3
   },
   "file_extension": ".py",
   "mimetype": "text/x-python",
   "name": "python",
   "nbconvert_exporter": "python",
   "pygments_lexer": "ipython3",
   "version": "3.9.0"
  },
  "orig_nbformat": 4
 },
 "nbformat": 4,
 "nbformat_minor": 2
}
