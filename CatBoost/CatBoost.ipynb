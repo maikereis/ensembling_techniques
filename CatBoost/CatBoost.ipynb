{
 "cells": [
  {
   "cell_type": "code",
   "execution_count": 1,
   "metadata": {},
   "outputs": [],
   "source": [
    "import numpy as np\n",
    "import pandas as pd\n",
    "\n",
    "from sklearn.model_selection import train_test_split\n",
    "from sklearn.compose import make_column_transformer, make_column_selector\n",
    "from sklearn.preprocessing import OrdinalEncoder, OneHotEncoder\n",
    "from sklearn.impute import SimpleImputer\n",
    "\n",
    "from sklearn import set_config\n",
    "set_config(display='diagram')   \n",
    "# displays HTML representation in a jupyter context"
   ]
  },
  {
   "cell_type": "markdown",
   "metadata": {},
   "source": [
    "### 1.Import data"
   ]
  },
  {
   "cell_type": "code",
   "execution_count": 245,
   "metadata": {},
   "outputs": [],
   "source": [
    "data = pd.read_csv('../data/loan/train.csv')\n",
    "\n",
    "data = data.drop('Loan_ID', axis=1)\n",
    "data['Dependents'] = data['Dependents'].replace('3+', '3')\n",
    "\n",
    "X, y = data.drop('Loan_Status', axis=1), data.pop('Loan_Status')\n",
    "\n",
    "X_train, X_test, y_train, y_test = train_test_split(X,y, stratify=y)"
   ]
  },
  {
   "cell_type": "code",
   "execution_count": 3,
   "metadata": {},
   "outputs": [],
   "source": [
    "ct_fill = make_column_transformer(\n",
    "    (SimpleImputer(strategy=\"most_frequent\"),make_column_selector(dtype_exclude=np.number)),\n",
    "    (SimpleImputer(strategy=\"mean\"), make_column_selector(dtype_include=np.number))\n",
    ")"
   ]
  },
  {
   "cell_type": "code",
   "execution_count": 4,
   "metadata": {},
   "outputs": [
    {
     "data": {
      "text/html": [
       "<style>#sk-c62e8a61-6422-45d2-a26b-92c340429201 {color: black;background-color: white;}#sk-c62e8a61-6422-45d2-a26b-92c340429201 pre{padding: 0;}#sk-c62e8a61-6422-45d2-a26b-92c340429201 div.sk-toggleable {background-color: white;}#sk-c62e8a61-6422-45d2-a26b-92c340429201 label.sk-toggleable__label {cursor: pointer;display: block;width: 100%;margin-bottom: 0;padding: 0.3em;box-sizing: border-box;text-align: center;}#sk-c62e8a61-6422-45d2-a26b-92c340429201 div.sk-toggleable__content {max-height: 0;max-width: 0;overflow: hidden;text-align: left;background-color: #f0f8ff;}#sk-c62e8a61-6422-45d2-a26b-92c340429201 div.sk-toggleable__content pre {margin: 0.2em;color: black;border-radius: 0.25em;background-color: #f0f8ff;}#sk-c62e8a61-6422-45d2-a26b-92c340429201 input.sk-toggleable__control:checked~div.sk-toggleable__content {max-height: 200px;max-width: 100%;overflow: auto;}#sk-c62e8a61-6422-45d2-a26b-92c340429201 div.sk-estimator input.sk-toggleable__control:checked~label.sk-toggleable__label {background-color: #d4ebff;}#sk-c62e8a61-6422-45d2-a26b-92c340429201 div.sk-label input.sk-toggleable__control:checked~label.sk-toggleable__label {background-color: #d4ebff;}#sk-c62e8a61-6422-45d2-a26b-92c340429201 input.sk-hidden--visually {border: 0;clip: rect(1px 1px 1px 1px);clip: rect(1px, 1px, 1px, 1px);height: 1px;margin: -1px;overflow: hidden;padding: 0;position: absolute;width: 1px;}#sk-c62e8a61-6422-45d2-a26b-92c340429201 div.sk-estimator {font-family: monospace;background-color: #f0f8ff;border: 1px dotted black;border-radius: 0.25em;box-sizing: border-box;margin-bottom: 0.5em;}#sk-c62e8a61-6422-45d2-a26b-92c340429201 div.sk-estimator:hover {background-color: #d4ebff;}#sk-c62e8a61-6422-45d2-a26b-92c340429201 div.sk-parallel-item::after {content: \"\";width: 100%;border-bottom: 1px solid gray;flex-grow: 1;}#sk-c62e8a61-6422-45d2-a26b-92c340429201 div.sk-label:hover label.sk-toggleable__label {background-color: #d4ebff;}#sk-c62e8a61-6422-45d2-a26b-92c340429201 div.sk-serial::before {content: \"\";position: absolute;border-left: 1px solid gray;box-sizing: border-box;top: 2em;bottom: 0;left: 50%;}#sk-c62e8a61-6422-45d2-a26b-92c340429201 div.sk-serial {display: flex;flex-direction: column;align-items: center;background-color: white;padding-right: 0.2em;padding-left: 0.2em;}#sk-c62e8a61-6422-45d2-a26b-92c340429201 div.sk-item {z-index: 1;}#sk-c62e8a61-6422-45d2-a26b-92c340429201 div.sk-parallel {display: flex;align-items: stretch;justify-content: center;background-color: white;}#sk-c62e8a61-6422-45d2-a26b-92c340429201 div.sk-parallel::before {content: \"\";position: absolute;border-left: 1px solid gray;box-sizing: border-box;top: 2em;bottom: 0;left: 50%;}#sk-c62e8a61-6422-45d2-a26b-92c340429201 div.sk-parallel-item {display: flex;flex-direction: column;position: relative;background-color: white;}#sk-c62e8a61-6422-45d2-a26b-92c340429201 div.sk-parallel-item:first-child::after {align-self: flex-end;width: 50%;}#sk-c62e8a61-6422-45d2-a26b-92c340429201 div.sk-parallel-item:last-child::after {align-self: flex-start;width: 50%;}#sk-c62e8a61-6422-45d2-a26b-92c340429201 div.sk-parallel-item:only-child::after {width: 0;}#sk-c62e8a61-6422-45d2-a26b-92c340429201 div.sk-dashed-wrapped {border: 1px dashed gray;margin: 0 0.4em 0.5em 0.4em;box-sizing: border-box;padding-bottom: 0.4em;background-color: white;position: relative;}#sk-c62e8a61-6422-45d2-a26b-92c340429201 div.sk-label label {font-family: monospace;font-weight: bold;background-color: white;display: inline-block;line-height: 1.2em;}#sk-c62e8a61-6422-45d2-a26b-92c340429201 div.sk-label-container {position: relative;z-index: 2;text-align: center;}#sk-c62e8a61-6422-45d2-a26b-92c340429201 div.sk-container {display: inline-block;position: relative;}</style><div id=\"sk-c62e8a61-6422-45d2-a26b-92c340429201\" class\"sk-top-container\"><div class=\"sk-container\"><div class=\"sk-item sk-dashed-wrapped\"><div class=\"sk-label-container\"><div class=\"sk-label sk-toggleable\"><input class=\"sk-toggleable__control sk-hidden--visually\" id=\"75179148-a598-46a5-b5e2-0c144bd71b1e\" type=\"checkbox\" ><label class=\"sk-toggleable__label\" for=\"75179148-a598-46a5-b5e2-0c144bd71b1e\">ColumnTransformer</label><div class=\"sk-toggleable__content\"><pre>ColumnTransformer(transformers=[('simpleimputer-1',\n",
       "                                 SimpleImputer(strategy='most_frequent'),\n",
       "                                 <sklearn.compose._column_transformer.make_column_selector object at 0x000001B41EF77760>),\n",
       "                                ('simpleimputer-2', SimpleImputer(),\n",
       "                                 <sklearn.compose._column_transformer.make_column_selector object at 0x000001B41EF77400>)])</pre></div></div></div><div class=\"sk-parallel\"><div class=\"sk-parallel-item\"><div class=\"sk-item\"><div class=\"sk-label-container\"><div class=\"sk-label sk-toggleable\"><input class=\"sk-toggleable__control sk-hidden--visually\" id=\"3f49e04a-6ae4-4e9a-87b9-ecad45d6f6ec\" type=\"checkbox\" ><label class=\"sk-toggleable__label\" for=\"3f49e04a-6ae4-4e9a-87b9-ecad45d6f6ec\">simpleimputer-1</label><div class=\"sk-toggleable__content\"><pre><sklearn.compose._column_transformer.make_column_selector object at 0x000001B41EF77760></pre></div></div></div><div class=\"sk-serial\"><div class=\"sk-item\"><div class=\"sk-estimator sk-toggleable\"><input class=\"sk-toggleable__control sk-hidden--visually\" id=\"c2ba1a4f-3dfc-47f9-be0e-181cf26d1e09\" type=\"checkbox\" ><label class=\"sk-toggleable__label\" for=\"c2ba1a4f-3dfc-47f9-be0e-181cf26d1e09\">SimpleImputer</label><div class=\"sk-toggleable__content\"><pre>SimpleImputer(strategy='most_frequent')</pre></div></div></div></div></div></div><div class=\"sk-parallel-item\"><div class=\"sk-item\"><div class=\"sk-label-container\"><div class=\"sk-label sk-toggleable\"><input class=\"sk-toggleable__control sk-hidden--visually\" id=\"f404a51a-c789-463a-97b0-a7a7c0c85af6\" type=\"checkbox\" ><label class=\"sk-toggleable__label\" for=\"f404a51a-c789-463a-97b0-a7a7c0c85af6\">simpleimputer-2</label><div class=\"sk-toggleable__content\"><pre><sklearn.compose._column_transformer.make_column_selector object at 0x000001B41EF77400></pre></div></div></div><div class=\"sk-serial\"><div class=\"sk-item\"><div class=\"sk-estimator sk-toggleable\"><input class=\"sk-toggleable__control sk-hidden--visually\" id=\"741c185c-7af6-4001-ba8d-4eec126c9c27\" type=\"checkbox\" ><label class=\"sk-toggleable__label\" for=\"741c185c-7af6-4001-ba8d-4eec126c9c27\">SimpleImputer</label><div class=\"sk-toggleable__content\"><pre>SimpleImputer()</pre></div></div></div></div></div></div></div></div></div></div>"
      ],
      "text/plain": [
       "ColumnTransformer(transformers=[('simpleimputer-1',\n",
       "                                 SimpleImputer(strategy='most_frequent'),\n",
       "                                 <sklearn.compose._column_transformer.make_column_selector object at 0x000001B41EF77760>),\n",
       "                                ('simpleimputer-2', SimpleImputer(),\n",
       "                                 <sklearn.compose._column_transformer.make_column_selector object at 0x000001B41EF77400>)])"
      ]
     },
     "execution_count": 4,
     "metadata": {},
     "output_type": "execute_result"
    }
   ],
   "source": [
    "ct_fill"
   ]
  },
  {
   "cell_type": "code",
   "execution_count": 247,
   "metadata": {},
   "outputs": [],
   "source": [
    "X_train = pd.DataFrame(ct_fill.fit_transform(X_train)).infer_objects()\n",
    "X_test = pd.DataFrame(ct_fill.transform(X_test)).infer_objects()\n",
    "\n",
    "y_train = y_train.map({'Y':1, 'N':0})\n",
    "y_test = y_test.map({'Y':1, 'N':0})"
   ]
  },
  {
   "cell_type": "code",
   "execution_count": 248,
   "metadata": {},
   "outputs": [],
   "source": [
    "cat_features = X_train.select_dtypes('object')\n",
    "cat_features_idx = [X_train.columns.get_loc(col) for col in cat_features]"
   ]
  },
  {
   "cell_type": "markdown",
   "metadata": {},
   "source": [
    "### 2. Install LightGBM"
   ]
  },
  {
   "cell_type": "code",
   "execution_count": 249,
   "metadata": {},
   "outputs": [],
   "source": [
    "#%pip install catboost\n",
    "from catboost import CatBoostClassifier"
   ]
  },
  {
   "cell_type": "markdown",
   "metadata": {},
   "source": [
    "### 3. Build a Model"
   ]
  },
  {
   "cell_type": "code",
   "execution_count": 250,
   "metadata": {},
   "outputs": [],
   "source": [
    "model = CatBoostClassifier(verbose=False)\n"
   ]
  },
  {
   "cell_type": "markdown",
   "metadata": {},
   "source": [
    "### 3. Evaluate model"
   ]
  },
  {
   "cell_type": "code",
   "execution_count": 251,
   "metadata": {},
   "outputs": [
    {
     "data": {
      "text/plain": [
       "(0.8108695652173913, 0.8116883116883117)"
      ]
     },
     "execution_count": 251,
     "metadata": {},
     "output_type": "execute_result"
    }
   ],
   "source": [
    "model.fit(X_train, y_train, cat_features=cat_features_idx, eval_set=(X_test, y_test))\n",
    "model.score(X_train, y_train), model.score(X_test, y_test)"
   ]
  }
 ],
 "metadata": {
  "interpreter": {
   "hash": "28a5f5bc7277c3ff611db003fc39c6e486462a4e0b6ad71d09a0177baf05ed21"
  },
  "kernelspec": {
   "display_name": "Python 3.9.0 64-bit ('ensembletech': virtualenv)",
   "language": "python",
   "name": "python3"
  },
  "language_info": {
   "codemirror_mode": {
    "name": "ipython",
    "version": 3
   },
   "file_extension": ".py",
   "mimetype": "text/x-python",
   "name": "python",
   "nbconvert_exporter": "python",
   "pygments_lexer": "ipython3",
   "version": "3.9.0"
  },
  "orig_nbformat": 4
 },
 "nbformat": 4,
 "nbformat_minor": 2
}
